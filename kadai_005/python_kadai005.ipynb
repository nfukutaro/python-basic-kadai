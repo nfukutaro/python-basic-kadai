{
  "nbformat": 4,
  "nbformat_minor": 0,
  "metadata": {
    "colab": {
      "provenance": []
    },
    "kernelspec": {
      "name": "python3",
      "display_name": "Python 3"
    },
    "language_info": {
      "name": "python"
    }
  },
  "cells": [
    {
      "cell_type": "code",
      "execution_count": 29,
      "metadata": {
        "colab": {
          "base_uri": "https://localhost:8080/"
        },
        "id": "-_Bq4euIe87Y",
        "outputId": "0c4a52da-df5b-40e1-e45e-c72f9782ff7a"
      },
      "outputs": [
        {
          "output_type": "stream",
          "name": "stdout",
          "text": [
            "75.0cm²\n"
          ]
        }
      ],
      "source": [
        "upper_side= 10\n",
        "bottom_side= 20\n",
        "height= 5\n",
        "\n",
        "#公式：台形の面積＝（上辺＋下辺）×高さ÷２\n",
        "trapezoid_area = (upper_side + bottom_side)*height/ 2\n",
        "print(f\"{area}cm²\")\n"
      ]
    }
  ]
}