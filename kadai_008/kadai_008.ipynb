{
  "nbformat": 4,
  "nbformat_minor": 0,
  "metadata": {
    "colab": {
      "provenance": []
    },
    "kernelspec": {
      "name": "python3",
      "display_name": "Python 3"
    },
    "language_info": {
      "name": "python"
    }
  },
  "cells": [
    {
      "cell_type": "code",
      "execution_count": 80,
      "metadata": {
        "colab": {
          "base_uri": "https://localhost:8080/"
        },
        "id": "N1RKZV8R-Y8c",
        "outputId": "c4ee0e71-bad4-4ea6-f192-ba7dfbd3fad6"
      },
      "outputs": [
        {
          "output_type": "stream",
          "name": "stdout",
          "text": [
            "0\n",
            "0\n"
          ]
        }
      ],
      "source": [
        "#ランダムな整数を利用するために、randomモジュールをインポート\n",
        "import random\n",
        "#変数varに0～15までのランダムな整数を代入する。\n",
        "var = random.randint(0,15)\n",
        "print(var)\n",
        "\n",
        "#変数varが、3の倍数と5の倍数の両方に該当する場合は「FizzBuzz」を出力\n",
        "if var%3 == 0 and var%5 == 0 and var > 3:\n",
        "  print(\"FizzBuzz\")\n",
        "\n",
        "#変数varが、3の倍数の場合は「Fizz」を出力\n",
        "elif var%3 == 0 and var > 3 or var == 3:\n",
        "  print(\"Fizz\")\n",
        "#h変数varが、5の倍数の倍数は「Buzz」を出力\n",
        "elif var%5 == 0 and var > 5 or var == 5:\n",
        "  print(\"Buzz\")\n",
        "\n",
        "#上記のどの場合にも該当しない場合は、変数varの値を出力\n",
        "else:\n",
        "  print(var)"
      ]
    }
  ]
}