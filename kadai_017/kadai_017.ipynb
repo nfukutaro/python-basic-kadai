{
  "nbformat": 4,
  "nbformat_minor": 0,
  "metadata": {
    "colab": {
      "provenance": []
    },
    "kernelspec": {
      "name": "python3",
      "display_name": "Python 3"
    },
    "language_info": {
      "name": "python"
    }
  },
  "cells": [
    {
      "cell_type": "code",
      "execution_count": 26,
      "metadata": {
        "colab": {
          "base_uri": "https://localhost:8080/"
        },
        "id": "QrwOvWzT1deQ",
        "outputId": "79f6b597-c52a-40b0-b5e3-bc5d2b9e46b3"
      },
      "outputs": [
        {
          "output_type": "stream",
          "name": "stdout",
          "text": [
            "侍太郎は大人です。\n",
            "侍花子は大人ではありません。\n",
            "侍二郎は大人です。\n"
          ]
        }
      ],
      "source": [
        "class Human:\n",
        "  # コンストラクタを定義する\n",
        "  def __init__(self,name,age):\n",
        "    self.name= name\n",
        "    self.age= age\n",
        "\n",
        "  #check_adultメソッドを追加する\n",
        "  def check_adult(self):\n",
        "      if self.age >= 20:\n",
        "        print(f\"{self.name}は大人です。\")\n",
        "      else:\n",
        "        print(f\"{self.name}は大人ではありません。\")\n",
        "\n",
        "  #インスタンス化する\n",
        "user_1 = Human(\"侍太郎\",36)\n",
        "user_2 = Human(\"侍花子\",18)\n",
        "user_3 = Human(\"侍二郎\",20)\n",
        "\n",
        "\n",
        " #リストにする\n",
        "users =[user_1, user_2, user_3]\n",
        "\n",
        " #ひとつずつ順番に出力する\n",
        "for user in users:\n",
        "   user.check_adult()\n",
        "\n"
      ]
    }
  ]
}
