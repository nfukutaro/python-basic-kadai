{
  "nbformat": 4,
  "nbformat_minor": 0,
  "metadata": {
    "colab": {
      "provenance": []
    },
    "kernelspec": {
      "name": "python3",
      "display_name": "Python 3"
    },
    "language_info": {
      "name": "python"
    }
  },
  "cells": [
    {
      "cell_type": "code",
      "execution_count": 3,
      "metadata": {
        "colab": {
          "base_uri": "https://localhost:8080/"
        },
        "id": "6X2zVNEHkmGO",
        "outputId": "a6d09069-3952-4377-92f9-7407de2a8c05"
      },
      "outputs": [
        {
          "output_type": "stream",
          "name": "stdout",
          "text": [
            "330.0\n"
          ]
        }
      ],
      "source": [
        "price1 = 100\n",
        "price2 = 200\n",
        "#taxは関数外で使うので、ローカル変数からグローバル変数に変更する。\n",
        "tax = 1.1\n",
        "def total():\n",
        "  return price1 + price2\n",
        "\n",
        "print(total()* tax)\n"
      ]
    }
  ]
}