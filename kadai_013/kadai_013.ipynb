{
  "nbformat": 4,
  "nbformat_minor": 0,
  "metadata": {
    "colab": {
      "provenance": []
    },
    "kernelspec": {
      "name": "python3",
      "display_name": "Python 3"
    },
    "language_info": {
      "name": "python"
    }
  },
  "cells": [
    {
      "cell_type": "code",
      "execution_count": 17,
      "metadata": {
        "colab": {
          "base_uri": "https://localhost:8080/"
        },
        "id": "wARhLnKDXjCu",
        "outputId": "0d72b4d8-51dd-48e8-c2c9-2735a5f6ff7a"
      },
      "outputs": [
        {
          "output_type": "stream",
          "name": "stdout",
          "text": [
            "1870.0円です。\n"
          ]
        }
      ],
      "source": [
        "def include_tax_price(price, tax_rate)-> int:\n",
        "  # 与えられた引数priceと引数taxを乗じて、引数priceに加算し、変数totalに代入する。\n",
        "  total = price * tax_rate + price\n",
        "  return total\n",
        "\n",
        "#関数を呼び出し、引数として価格と税率を渡す\n",
        "display_price =include_tax_price(1700,0.1)\n",
        "print(f\"{display_price}円です。\")\n",
        "\n",
        "\n"
      ]
    }
  ]
}